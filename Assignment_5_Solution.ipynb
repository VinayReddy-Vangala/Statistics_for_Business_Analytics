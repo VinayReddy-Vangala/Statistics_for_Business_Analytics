{
  "nbformat": 4,
  "nbformat_minor": 0,
  "metadata": {
    "colab": {
      "provenance": []
    },
    "kernelspec": {
      "name": "ir",
      "display_name": "R"
    }
  },
  "cells": [
    {
      "cell_type": "markdown",
      "metadata": {
        "id": "sppWpEqRFuQn"
      },
      "source": [
        "# Assignment 5\n",
        "* Author: Vinay Reddy\n",
        "* NetID: vrv22001\n",
        "* Date: 02/15/2023\n",
        "\n",
        "Here is a blank notebook for Assignment 5. Please fill in your name and NetID at the top. This assignment is designed to introduce you to how to use R with Google Colab. After finishing all your answers, please click \"Runtime-> Run all\" (or Ctrl+F9) to generate all the outputs and submit your ipynb file with all the outputs."
      ]
    },
    {
      "cell_type": "markdown",
      "source": [
        "# General Instructions\n",
        "\n",
        "Please change the file name to “Assignment 5 Solution.ipynb.” The solution to each problem should be a separate section. \n",
        "\n",
        "Note that R code submitted should work independent of the data that\n",
        "sits in the data structure. For example, suppose there was a vector\n",
        "$Rvec$ with the values $(1,1,4)$ and the problem asks for you to\n",
        "create R code to create a vector answer which doubles each element\n",
        "of $Rvec$. \n",
        "\n",
        "\n",
        "*   The answer $answer=c(2,2,8)$ would be given no credit.\n",
        "\n",
        "*  The answer $answer=2*Rvec$ would be an appropriate answer. \n",
        "\n",
        "For all problems, be sure to add comments that will enable the graders\n",
        "to understand your process, as needed. If you have any questions,\n",
        "please submit them via email to the instructor and/or the graders\n",
        "prior to submitting your solution. "
      ],
      "metadata": {
        "id": "j5oNSna55_qr"
      }
    },
    {
      "cell_type": "code",
      "metadata": {
        "id": "cymOBrQuFxA9",
        "colab": {
          "base_uri": "https://localhost:8080/",
          "height": 277
        },
        "outputId": "4ead5a82-aa4d-4c76-c360-fa4a83ca9cdb"
      },
      "source": [
        "# Check R version\n",
        "# Make sure it says R at the bottom\n",
        "version"
      ],
      "execution_count": null,
      "outputs": [
        {
          "output_type": "display_data",
          "data": {
            "text/plain": [
              "               _                                          \n",
              "platform       x86_64-pc-linux-gnu                        \n",
              "arch           x86_64                                     \n",
              "os             linux-gnu                                  \n",
              "system         x86_64, linux-gnu                          \n",
              "status         Patched                                    \n",
              "major          4                                          \n",
              "minor          2.2                                        \n",
              "year           2022                                       \n",
              "month          11                                         \n",
              "day            10                                         \n",
              "svn rev        83330                                      \n",
              "language       R                                          \n",
              "version.string R version 4.2.2 Patched (2022-11-10 r83330)\n",
              "nickname       Innocent and Trusting                      "
            ]
          },
          "metadata": {}
        }
      ]
    },
    {
      "cell_type": "markdown",
      "source": [
        "# Problem 1 (30 Points) \n",
        "\n",
        "Suppose that the time it takes for a worker to complete a task is modeled as a uniform random variable."
      ],
      "metadata": {
        "id": "NaJrXhfDpbr9"
      }
    },
    {
      "cell_type": "markdown",
      "source": [
        "a. Suppose that the minimum value for the uniform distribution is assumed to be 20 and that the maximum value is assumed to be 27. What is the probability that the time it takes a worker to complete a task is greater than or equal to 23 minutes?\n"
      ],
      "metadata": {
        "id": "NZuVQdyK6Mlc"
      }
    },
    {
      "cell_type": "code",
      "source": [
        "1-punif(23,20,27)"
      ],
      "metadata": {
        "id": "MSAprDVa6Zig",
        "colab": {
          "base_uri": "https://localhost:8080/",
          "height": 34
        },
        "outputId": "2d95d411-9dc5-45b4-f8bc-a038090d82ea"
      },
      "execution_count": 1,
      "outputs": [
        {
          "output_type": "display_data",
          "data": {
            "text/html": [
              "0.571428571428571"
            ],
            "text/markdown": "0.571428571428571",
            "text/latex": "0.571428571428571",
            "text/plain": [
              "[1] 0.5714286"
            ]
          },
          "metadata": {}
        }
      ]
    },
    {
      "cell_type": "markdown",
      "source": [
        "b. Suppose that the minimum value for the uniform distribution is assumed to be 20 and that the maximum value is assumed to be 27. Furthermore, suppose you give a task to a worker, and when you check on that worker after 25 minutes, the task has already been completed. What is the probability that it was completed in more than 21 minutes?"
      ],
      "metadata": {
        "id": "6DncI7Hr6Yl7"
      }
    },
    {
      "cell_type": "code",
      "source": [
        "numerator=punif(25,20,27)-punif(21,20,27)\n",
        "denominator=punif(25,20,27)-punif(20,20,27)\n",
        "ans=numerator/denominator\n",
        "sprintf(\"The probability that it was completed in more than 21 minutes: %f\", ans)"
      ],
      "metadata": {
        "id": "hsVRXVDbpgW8",
        "colab": {
          "base_uri": "https://localhost:8080/",
          "height": 34
        },
        "outputId": "b4f47116-1d55-4b19-c814-debd58ce1919"
      },
      "execution_count": 16,
      "outputs": [
        {
          "output_type": "display_data",
          "data": {
            "text/html": [
              "'The probability that it was completed in more than 21 minutes: 0.800000'"
            ],
            "text/markdown": "'The probability that it was completed in more than 21 minutes: 0.800000'",
            "text/latex": "'The probability that it was completed in more than 21 minutes: 0.800000'",
            "text/plain": [
              "[1] \"The probability that it was completed in more than 21 minutes: 0.800000\""
            ]
          },
          "metadata": {}
        }
      ]
    },
    {
      "cell_type": "markdown",
      "source": [
        "c. Suppose that you have the completion times of a random collection of tasks for workers, and in that sample, the average completion time is 21 minutes and the variance of the completion times is 12. What is your best estimate for the minimum and maximum parameters of the distribution?"
      ],
      "metadata": {
        "id": "CTaIoQKt6slN"
      }
    },
    {
      "cell_type": "code",
      "source": [
        "avg_time=21\n",
        "var_time=12\n",
        "min_time= ((avg_time*2)-var_time)/2\n",
        "max_time= min_time+var_time\n",
        "sprintf(\"The minimum time is: %d\", min_time)#min_time\n",
        "sprintf(\"The maximum time is: %d\", max_time)#max_time\n",
        "\n",
        "\n"
      ],
      "metadata": {
        "id": "F9PyxqkK6q--",
        "colab": {
          "base_uri": "https://localhost:8080/",
          "height": 52
        },
        "outputId": "2095b79e-3bc5-43a5-c8ab-d683e24f6c68"
      },
      "execution_count": 19,
      "outputs": [
        {
          "output_type": "display_data",
          "data": {
            "text/html": [
              "'The minimum time is: 15'"
            ],
            "text/markdown": "'The minimum time is: 15'",
            "text/latex": "'The minimum time is: 15'",
            "text/plain": [
              "[1] \"The minimum time is: 15\""
            ]
          },
          "metadata": {}
        },
        {
          "output_type": "display_data",
          "data": {
            "text/html": [
              "'The maximum time is: 27'"
            ],
            "text/markdown": "'The maximum time is: 27'",
            "text/latex": "'The maximum time is: 27'",
            "text/plain": [
              "[1] \"The maximum time is: 27\""
            ]
          },
          "metadata": {}
        }
      ]
    },
    {
      "cell_type": "markdown",
      "source": [
        "# Problem 2 (30 Points)\n",
        "\n",
        "The temperature of coffee sold at the Coffee Bean Cafe follows the normal probability distribution, with a mean of 153 degrees. The standard deviation of this distribution is 10 degrees.\n",
        "\n",
        "a. What is the probability that the coffee temperature is between 150 degrees and 159 degrees? \n"
      ],
      "metadata": {
        "id": "SW55QAho7Azv"
      }
    },
    {
      "cell_type": "code",
      "source": [
        "pnorm(159,153,10)-pnorm(150,153,10)\n",
        "#using normalisation\n",
        "z_high=(159-153)/10\n",
        "z_lower=(150-153)/10\n",
        "pnorm(z_high)-pnorm(z_lower)#checking with pnorm"
      ],
      "metadata": {
        "id": "ngeKou8CKSYQ",
        "colab": {
          "base_uri": "https://localhost:8080/",
          "height": 52
        },
        "outputId": "b1bc7b7a-a81e-4538-93f0-da72f4ac9868"
      },
      "execution_count": 9,
      "outputs": [
        {
          "output_type": "display_data",
          "data": {
            "text/html": [
              "0.343658304438879"
            ],
            "text/markdown": "0.343658304438879",
            "text/latex": "0.343658304438879",
            "text/plain": [
              "[1] 0.3436583"
            ]
          },
          "metadata": {}
        },
        {
          "output_type": "display_data",
          "data": {
            "text/html": [
              "0.343658304438879"
            ],
            "text/markdown": "0.343658304438879",
            "text/latex": "0.343658304438879",
            "text/plain": [
              "[1] 0.3436583"
            ]
          },
          "metadata": {}
        }
      ]
    },
    {
      "cell_type": "markdown",
      "source": [],
      "metadata": {
        "id": "Yq5SJeKV0mAZ"
      }
    },
    {
      "cell_type": "markdown",
      "source": [
        "b. What is the probability that the coffee temperature is more than 154 degrees? "
      ],
      "metadata": {
        "id": "qlPhFFgF7K4o"
      }
    },
    {
      "cell_type": "code",
      "source": [
        "1-pnorm(154,153,10) #P(X>154)"
      ],
      "metadata": {
        "id": "6p20kFSX7RJM",
        "colab": {
          "base_uri": "https://localhost:8080/",
          "height": 34
        },
        "outputId": "b83f1320-1aa6-471b-ec86-9b12012a51c4"
      },
      "execution_count": 4,
      "outputs": [
        {
          "output_type": "display_data",
          "data": {
            "text/html": [
              "0.460172162722971"
            ],
            "text/markdown": "0.460172162722971",
            "text/latex": "0.460172162722971",
            "text/plain": [
              "[1] 0.4601722"
            ]
          },
          "metadata": {}
        }
      ]
    },
    {
      "cell_type": "markdown",
      "source": [
        "c. If I know that the coffee temperature is between 150 degrees and 159 degrees, what is the proability that the the coffee temperature is more than 154 degrees?"
      ],
      "metadata": {
        "id": "zm6KuaW97RdI"
      }
    },
    {
      "cell_type": "code",
      "source": [
        "#p(154>X)/P(150>X>159)= p(154>X>159)/p(150>x>159)\n",
        "(pnorm(159,153,10)-pnorm(154,153,10))/(pnorm(159,153,10)-pnorm(150,153,10))"
      ],
      "metadata": {
        "id": "-vKFTKnU7niX",
        "colab": {
          "base_uri": "https://localhost:8080/",
          "height": 34
        },
        "outputId": "11715434-76f4-433f-c80f-31b6329948df"
      },
      "execution_count": 10,
      "outputs": [
        {
          "output_type": "display_data",
          "data": {
            "text/html": [
              "0.540999715622946"
            ],
            "text/markdown": "0.540999715622946",
            "text/latex": "0.540999715622946",
            "text/plain": [
              "[1] 0.5409997"
            ]
          },
          "metadata": {}
        }
      ]
    },
    {
      "cell_type": "markdown",
      "source": [
        "d. What is 72th percentile of coffee temperature?"
      ],
      "metadata": {
        "id": "ubbFBCew7nxA"
      }
    },
    {
      "cell_type": "code",
      "source": [
        "qnorm(0.72,153,10)"
      ],
      "metadata": {
        "id": "Dzpaoieu7qa5",
        "colab": {
          "base_uri": "https://localhost:8080/",
          "height": 34
        },
        "outputId": "60158b88-efd4-42d8-867f-d92407940239"
      },
      "execution_count": 13,
      "outputs": [
        {
          "output_type": "display_data",
          "data": {
            "text/html": [
              "158.828415072712"
            ],
            "text/markdown": "158.828415072712",
            "text/latex": "158.828415072712",
            "text/plain": [
              "[1] 158.8284"
            ]
          },
          "metadata": {}
        }
      ]
    },
    {
      "cell_type": "markdown",
      "source": [
        "e. Can you solve part b with standard normal distribution? What is the z-value in this case?"
      ],
      "metadata": {
        "id": "IHLylNlt7rnp"
      }
    },
    {
      "cell_type": "code",
      "source": [
        "z=(154-153)/10\n",
        "z #value of z\n",
        "1-pnorm(z) #solving b using z-value"
      ],
      "metadata": {
        "id": "NSOBdvM78d8y",
        "colab": {
          "base_uri": "https://localhost:8080/",
          "height": 52
        },
        "outputId": "dd22bcf5-50d2-42f5-fd3f-fec983989009"
      },
      "execution_count": 5,
      "outputs": [
        {
          "output_type": "display_data",
          "data": {
            "text/html": [
              "0.1"
            ],
            "text/markdown": "0.1",
            "text/latex": "0.1",
            "text/plain": [
              "[1] 0.1"
            ]
          },
          "metadata": {}
        },
        {
          "output_type": "display_data",
          "data": {
            "text/html": [
              "0.460172162722971"
            ],
            "text/markdown": "0.460172162722971",
            "text/latex": "0.460172162722971",
            "text/plain": [
              "[1] 0.4601722"
            ]
          },
          "metadata": {}
        }
      ]
    },
    {
      "cell_type": "markdown",
      "source": [
        "# Problem 3 (40 points)\n",
        "\n",
        "The time between consecutive email arrivals to the computer server in an Internet-based retailer is random distributed. The IS manager of the company has estimated that the time between emails is approximately 4 minutes."
      ],
      "metadata": {
        "id": "Z9BLvrBn8xQI"
      }
    },
    {
      "cell_type": "markdown",
      "source": [
        "a. Assuming that the time between the arrival of consecutive emails follows an exponential distribution, compute the expected rate of arrivals per minute, $\\lambda_M$."
      ],
      "metadata": {
        "id": "1Kl6ztiG84Je"
      }
    },
    {
      "cell_type": "code",
      "source": [
        "lambda=1/4\n",
        "lambda"
      ],
      "metadata": {
        "id": "1T2PqSiN84pT",
        "colab": {
          "base_uri": "https://localhost:8080/",
          "height": 34
        },
        "outputId": "cbfb5c67-f5ee-4811-ce2f-95877b047f1f"
      },
      "execution_count": 6,
      "outputs": [
        {
          "output_type": "display_data",
          "data": {
            "text/html": [
              "0.25"
            ],
            "text/markdown": "0.25",
            "text/latex": "0.25",
            "text/plain": [
              "[1] 0.25"
            ]
          },
          "metadata": {}
        }
      ]
    },
    {
      "cell_type": "markdown",
      "source": [
        "b. What is the probability that once a message arrives the next message will take more than 20 minutes to arrive."
      ],
      "metadata": {
        "id": "c7yOHZaI84xq"
      }
    },
    {
      "cell_type": "code",
      "source": [
        "1-pexp(20,lambda)"
      ],
      "metadata": {
        "id": "_PePrmJS87dG",
        "colab": {
          "base_uri": "https://localhost:8080/",
          "height": 34
        },
        "outputId": "727888ac-f201-4ccd-a877-be59d4b9fc4b"
      },
      "execution_count": 7,
      "outputs": [
        {
          "output_type": "display_data",
          "data": {
            "text/html": [
              "0.00673794699908548"
            ],
            "text/markdown": "0.00673794699908548",
            "text/latex": "0.00673794699908548",
            "text/plain": [
              "[1] 0.006737947"
            ]
          },
          "metadata": {}
        }
      ]
    },
    {
      "cell_type": "markdown",
      "source": [
        "c. Let N be the number of emails that arrive in the next 20 minutes. What is the probability that no emails arrive?"
      ],
      "metadata": {
        "id": "jwbpQPLU9Azj"
      }
    },
    {
      "cell_type": "code",
      "source": [
        "ppois(0,5)"
      ],
      "metadata": {
        "id": "TM4vgwdB9B_N",
        "colab": {
          "base_uri": "https://localhost:8080/",
          "height": 34
        },
        "outputId": "1a56da49-e61a-4d89-de69-bdcc6d71509d"
      },
      "execution_count": 7,
      "outputs": [
        {
          "output_type": "display_data",
          "data": {
            "text/html": [
              "0.00673794699908547"
            ],
            "text/markdown": "0.00673794699908547",
            "text/latex": "0.00673794699908547",
            "text/plain": [
              "[1] 0.006737947"
            ]
          },
          "metadata": {}
        }
      ]
    },
    {
      "cell_type": "markdown",
      "source": [
        "f. Consider your answers in part b and part c. Are they the same? Explain why or why not."
      ],
      "metadata": {
        "id": "bH_hZ6du9DSB"
      }
    },
    {
      "cell_type": "code",
      "source": [
        "print('yes,same that is because the Poisson provides an appropriate description of the number of occurrences per interval of time,\n",
        "then the exponential will provide a description of the length of time between occurrences.')"
      ],
      "metadata": {
        "id": "gZ3Tr5QN9IdF",
        "colab": {
          "base_uri": "https://localhost:8080/"
        },
        "outputId": "b4d6dd56-6cfb-424d-b515-3231fc863bb7"
      },
      "execution_count": 6,
      "outputs": [
        {
          "output_type": "stream",
          "name": "stdout",
          "text": [
            "[1] \"yes,same that is because the Poisson provides an appropriate description of the number of occurrences per interval of time,\\nthen the exponential will provide a description of the length of time between occurrences.\"\n"
          ]
        }
      ]
    }
  ]
}