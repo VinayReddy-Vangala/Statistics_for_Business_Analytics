{
  "nbformat": 4,
  "nbformat_minor": 0,
  "metadata": {
    "colab": {
      "provenance": []
    },
    "kernelspec": {
      "name": "ir",
      "display_name": "R"
    }
  },
  "cells": [
    {
      "cell_type": "markdown",
      "metadata": {
        "id": "sppWpEqRFuQn"
      },
      "source": [
        "# Assignment 2 \n",
        "* Author: **Vinay Reddy**\n",
        "* NetID: **vrv22001**\n",
        "* Date: **01/25/2023**\n",
        "\n",
        "Here is a blank notebook for Assignment 2. Please fill in your name and NetID at the top. This assignment is designed to introduce you to how to use R with Google Colab. After finishing all your answers, please click \"Runtime-> Run all\" (or Ctrl+F9) to generate all the outputs and submit your ipynb file with all the outputs."
      ]
    },
    {
      "cell_type": "code",
      "metadata": {
        "id": "cymOBrQuFxA9",
        "colab": {
          "base_uri": "https://localhost:8080/",
          "height": 277
        },
        "outputId": "974e20de-17c0-4e68-ae92-406041942382"
      },
      "source": [
        "version # make sure it says language R at the bottom!"
      ],
      "execution_count": null,
      "outputs": [
        {
          "output_type": "display_data",
          "data": {
            "text/plain": [
              "               _                                          \n",
              "platform       x86_64-pc-linux-gnu                        \n",
              "arch           x86_64                                     \n",
              "os             linux-gnu                                  \n",
              "system         x86_64, linux-gnu                          \n",
              "status         Patched                                    \n",
              "major          4                                          \n",
              "minor          2.2                                        \n",
              "year           2022                                       \n",
              "month          11                                         \n",
              "day            10                                         \n",
              "svn rev        83330                                      \n",
              "language       R                                          \n",
              "version.string R version 4.2.2 Patched (2022-11-10 r83330)\n",
              "nickname       Innocent and Trusting                      "
            ]
          },
          "metadata": {}
        }
      ]
    },
    {
      "cell_type": "markdown",
      "source": [
        "# General Instructions\n",
        "\n",
        "Please change the file name to “Assignment 2 Solution.ipynb.” The solution to each problem should be a separate section. \n",
        "\n",
        "Note that R code submitted should work independent of the data that\n",
        "sits in the data structure. For example, suppose there was a vector\n",
        "$Rvec$ with the values $(1,1,4)$ and the problem asks for you to\n",
        "create R code to create a vector answer which doubles each element\n",
        "of $Rvec$. \n",
        "\n",
        "\n",
        "*   The answer $answer=c(2,2,8)$ would be given no credit.\n",
        "\n",
        "*  The answer $answer=2*Rvec$ would be an appropriate answer. \n",
        "\n",
        "For all problems, be sure to add comments that will enable the graders\n",
        "to understand your process, as needed. If you have any questions,\n",
        "please submit them via email to the instructor and/or the graders\n",
        "prior to submitting your solution. "
      ],
      "metadata": {
        "id": "z7bU5I3A1xOm"
      }
    },
    {
      "cell_type": "markdown",
      "source": [
        "# Problem 1 (30 Points)\n",
        "By default, R provides several packages that are downloaded and loaded. One data set is called `women`, which is a data frame and is available in the `datasets` package of R, i.e., it is automatically\n",
        "available.\n",
        "\n",
        "a. How many variables are in this data frame? What does each variable represent? Don’t forget to include units. Hint: check the documentation for the units \n",
        "\n",
        "https://stat.ethz.ch/R-manual/R-devel/library/datasets/html/00Index.html\n"
      ],
      "metadata": {
        "id": "TUai5ycCC534"
      }
    },
    {
      "cell_type": "markdown",
      "source": [],
      "metadata": {
        "id": "iB67AdWU0flI"
      }
    },
    {
      "cell_type": "code",
      "source": [
        "str(women)\n",
        "summary(women)\n",
        "#height\tnumeric\tHeight (in)\n",
        "#weight\tnumeric\tWeight (lbs)\n",
        "print(\"There are 2 variables in women dataframe and each variable represents height in (inches) and weight in (lbs).\")"
      ],
      "metadata": {
        "id": "gBFfepF31AMK",
        "colab": {
          "base_uri": "https://localhost:8080/",
          "height": 208
        },
        "outputId": "c74df5ab-bc86-4c92-d959-f56d60f08ea6"
      },
      "execution_count": 2,
      "outputs": [
        {
          "output_type": "stream",
          "name": "stdout",
          "text": [
            "'data.frame':\t15 obs. of  2 variables:\n",
            " $ height: num  58 59 60 61 62 63 64 65 66 67 ...\n",
            " $ weight: num  115 117 120 123 126 129 132 135 139 142 ...\n"
          ]
        },
        {
          "output_type": "display_data",
          "data": {
            "text/plain": [
              "     height         weight     \n",
              " Min.   :58.0   Min.   :115.0  \n",
              " 1st Qu.:61.5   1st Qu.:124.5  \n",
              " Median :65.0   Median :135.0  \n",
              " Mean   :65.0   Mean   :136.7  \n",
              " 3rd Qu.:68.5   3rd Qu.:148.0  \n",
              " Max.   :72.0   Max.   :164.0  "
            ]
          },
          "metadata": {}
        },
        {
          "output_type": "stream",
          "name": "stdout",
          "text": [
            "[1] \"There are 2 variables in women dataframe and each variable represents height in (inches) and weight in (lbs).\"\n"
          ]
        }
      ]
    },
    {
      "cell_type": "markdown",
      "source": [],
      "metadata": {
        "id": "Z49hwo2PsCL1"
      }
    },
    {
      "cell_type": "markdown",
      "source": [
        "b. Calculate the body mass index $$\\text{BMI}= \\frac{\\text{weight(lbs)} * 703}{\\text{height(inches)}^2}$$ for every observation and create a variable BMI which records the output.\n",
        "\n"
      ],
      "metadata": {
        "id": "dwSgAJ1X-JIG"
      }
    },
    {
      "cell_type": "code",
      "metadata": {
        "id": "BJpPmN3l70PN",
        "colab": {
          "base_uri": "https://localhost:8080/"
        },
        "outputId": "df0a34d0-13eb-47b2-e4bc-0a5eac615bdd"
      },
      "source": [
        "weight = c(women$weight)\n",
        "\n",
        "height = c(women$height)\n",
        "\n",
        "BMI = (weight*703)/(height^2)\n",
        "print(BMI)\n"
      ],
      "execution_count": 3,
      "outputs": [
        {
          "output_type": "stream",
          "name": "stdout",
          "text": [
            " [1] 24.03240 23.62856 23.43333 23.23811 23.04318 22.84883 22.65527 22.46272\n",
            " [9] 22.43274 22.23791 22.19680 22.14871 22.09429 22.17358 22.23997\n"
          ]
        }
      ]
    },
    {
      "cell_type": "markdown",
      "source": [
        "c. In R, You can add a vector x that you want to name ```name``` to a dataframe ```df``` by writing\n",
        "\n",
        "```r\n",
        "df[\"name\"] = x\n",
        "```\n",
        "\n",
        "Add the BMI to `women` with an appropriate column name. "
      ],
      "metadata": {
        "id": "eNyryLdOF4gq"
      }
    },
    {
      "cell_type": "code",
      "source": [
        "\n",
        "women$BMI = with(women, women$weight*703/(women$height^2))\n",
        "print(women)\n"
      ],
      "metadata": {
        "id": "0aemBez3GLEQ",
        "colab": {
          "base_uri": "https://localhost:8080/"
        },
        "outputId": "25659776-96a5-414e-f10c-8164d67bb716"
      },
      "execution_count": 4,
      "outputs": [
        {
          "output_type": "stream",
          "name": "stdout",
          "text": [
            "   height weight      BMI\n",
            "1      58    115 24.03240\n",
            "2      59    117 23.62856\n",
            "3      60    120 23.43333\n",
            "4      61    123 23.23811\n",
            "5      62    126 23.04318\n",
            "6      63    129 22.84883\n",
            "7      64    132 22.65527\n",
            "8      65    135 22.46272\n",
            "9      66    139 22.43274\n",
            "10     67    142 22.23791\n",
            "11     68    146 22.19680\n",
            "12     69    150 22.14871\n",
            "13     70    154 22.09429\n",
            "14     71    159 22.17358\n",
            "15     72    164 22.23997\n"
          ]
        }
      ]
    },
    {
      "cell_type": "markdown",
      "source": [
        "d. Calculate the arithmetic mean and sample standard deviation of ```BMI```, without using any package or functions, except for sum() and length(), together with standard mathematical operators."
      ],
      "metadata": {
        "id": "oddoGgXhHjvZ"
      }
    },
    {
      "cell_type": "code",
      "source": [
        "sum=0\n",
        "length=0\n",
        "for (i in women$BMI){\n",
        "  sum = sum+i\n",
        "  length = length+1\n",
        "}\n",
        "\n",
        "mean=sum/length\n",
        "print(paste(\"Mean: \", (mean)))\n",
        "\n",
        "sum1=0\n",
        "for (i in women$BMI){\n",
        "  sum1 = sum1+((mean-i)^2 / (length-1) )  \n",
        "}\n",
        "sd=(sqrt(sum1))\n",
        "print(paste(\"Standard Deviation: \", (sd)))\n"
      ],
      "metadata": {
        "id": "hx96GE_DHqm6",
        "colab": {
          "base_uri": "https://localhost:8080/"
        },
        "outputId": "240a992a-dbf3-4479-c934-93e4c51a0f6f"
      },
      "execution_count": 5,
      "outputs": [
        {
          "output_type": "stream",
          "name": "stdout",
          "text": [
            "[1] \"Mean:  22.7244264440729\"\n",
            "[1] \"Standard Deviation:  0.618283905796862\"\n"
          ]
        }
      ]
    },
    {
      "cell_type": "markdown",
      "source": [
        "e. Is the distribution of ```BMI``` skewed? If so, in what direction? Explain."
      ],
      "metadata": {
        "id": "QgNQkiaa6BvZ"
      }
    },
    {
      "cell_type": "code",
      "source": [
        "# Use the package moments to get the skewness\n",
        "# https://cran.r-project.org/web/packages/\n",
        "install.packages(\"moments\")\n",
        "library(moments)\n",
        "\n",
        "skewness(women$BMI)"
      ],
      "metadata": {
        "id": "0iSS8P8y5Iis",
        "colab": {
          "base_uri": "https://localhost:8080/",
          "height": 86
        },
        "outputId": "7281bb39-3cc7-4c12-dc89-6d607ddcc2e0"
      },
      "execution_count": null,
      "outputs": [
        {
          "output_type": "stream",
          "name": "stderr",
          "text": [
            "Installing package into ‘/usr/local/lib/R/site-library’\n",
            "(as ‘lib’ is unspecified)\n",
            "\n"
          ]
        },
        {
          "output_type": "display_data",
          "data": {
            "text/html": [
              "0.774496785049287"
            ],
            "text/markdown": "0.774496785049287",
            "text/latex": "0.774496785049287",
            "text/plain": [
              "[1] 0.7744968"
            ]
          },
          "metadata": {}
        }
      ]
    },
    {
      "cell_type": "markdown",
      "source": [
        "# Problem 2 (35 points)\n",
        "In this problem we will be constructing a histogram of the ```hr``` vector for the ```heart.rate``` data set in the ```ISwR``` package."
      ],
      "metadata": {
        "id": "nepVAFF0aGsJ"
      }
    },
    {
      "cell_type": "markdown",
      "source": [
        "a. The basic command for creating a histogram is ```hist(x)```, where x is a vector of numerical values. Create a histogram of the ```hr``` vector where hr denotes heart rate.\n"
      ],
      "metadata": {
        "id": "LfzXT2os_tWz"
      }
    },
    {
      "cell_type": "code",
      "source": [
        "#install.packages(\"ISwR\")\n",
        "#library(\"ISwR\") \n",
        "str(heart.rate)\n",
        "hist(heart.rate$hr)"
      ],
      "metadata": {
        "id": "hl6QNfaIaA_s",
        "colab": {
          "base_uri": "https://localhost:8080/",
          "height": 506
        },
        "outputId": "c48b2820-3a00-470a-a9d6-59284cd4c342"
      },
      "execution_count": null,
      "outputs": [
        {
          "output_type": "stream",
          "name": "stdout",
          "text": [
            "'data.frame':\t36 obs. of  3 variables:\n",
            " $ hr  : num  96 110 89 95 128 100 72 79 100 92 ...\n",
            " $ subj: Factor w/ 9 levels \"1\",\"2\",\"3\",\"4\",..: 1 2 3 4 5 6 7 8 9 1 ...\n",
            " $ time: Factor w/ 4 levels \"0\",\"30\",\"60\",..: 1 1 1 1 1 1 1 1 1 2 ...\n"
          ]
        },
        {
          "output_type": "display_data",
          "data": {
            "text/plain": [
              "Plot with title “Histogram of heart.rate$hr”"
            ],
            "image/png": "[encoded data removed]"
          },
          "metadata": {
            "image/png": {
              "width": 420,
              "height": 420
            }
          }
        }
      ]
    },
    {
      "cell_type": "markdown",
      "source": [
        "b. ```R``` automatically calculates where breaks should be a histogram. It is often the case that the user wants to specify exactly where the breaks should be. To make your own breaks, create a vector called ```DesiredBreaks``` of length 6 where the first element is 50, the last element is 130, and the internal elements are equally spaced between successive values. Add another argument to the histogram command which is called breaks and set it equal to ```DesiredBreaks```. This should change the histogram to having 5 sections. Note that you can create that array either by calculating the breakpoints by hand, or you can explore the function ```seq```.\n"
      ],
      "metadata": {
        "id": "LlVkfNoR_1e9"
      }
    },
    {
      "cell_type": "code",
      "source": [
        " DesiredBreaks = seq(50,130,length = 6)\n",
        " breaks = DesiredBreaks\n",
        " print(DesiredBreaks)\n",
        " hist(heart.rate$hr, breaks)\n",
        " #DesiredBreak <- (50,66,82,98,114,130) # calculating breakpoints by hand"
      ],
      "metadata": {
        "id": "ZfC_imV0cR2Z",
        "colab": {
          "base_uri": "https://localhost:8080/",
          "height": 454
        },
        "outputId": "36d04dff-3c3c-49f5-bb3e-6a1906ff6e56"
      },
      "execution_count": null,
      "outputs": [
        {
          "output_type": "stream",
          "name": "stdout",
          "text": [
            "[1]  50  66  82  98 114 130\n"
          ]
        },
        {
          "output_type": "display_data",
          "data": {
            "text/plain": [
              "Plot with title “Histogram of heart.rate$hr”"
            ],
            "image/png": "[encoded data removed]"
          },
          "metadata": {
            "image/png": {
              "width": 420,
              "height": 420
            }
          }
        }
      ]
    },
    {
      "cell_type": "markdown",
      "source": [
        "c. Building on the chart from the previous subproblem, add a title called “Heart Rate Histogram” by setting the main argument, and regenerate the plot."
      ],
      "metadata": {
        "id": "4hmXgLXSAUZw"
      }
    },
    {
      "cell_type": "code",
      "source": [
        "hist(heart.rate$hr,breaks, main=\"Heart Rate Histogram\")"
      ],
      "metadata": {
        "id": "aBH9z0otgmRZ",
        "colab": {
          "base_uri": "https://localhost:8080/",
          "height": 437
        },
        "outputId": "bb62b59d-79d4-46be-a003-de72ab81ef51"
      },
      "execution_count": null,
      "outputs": [
        {
          "output_type": "display_data",
          "data": {
            "text/plain": [
              "Plot with title “Heart Rate Histogram”"
            ],
            "image/png": "[encoded data removed]"
          },
          "metadata": {
            "image/png": {
              "width": 420,
              "height": 420
            }
          }
        }
      ]
    },
    {
      "cell_type": "markdown",
      "source": [
        "d. Building on the chart from the previous subproblem, add descriptive x-label text, by setting the xlab argument. The xlab argument should be set to “Heart Rate”."
      ],
      "metadata": {
        "id": "zTVNNNJNAXse"
      }
    },
    {
      "cell_type": "code",
      "source": [
        "hist(heart.rate$hr,breaks, main=\"Heart Rate Histogram\", xlab=\"Heart Rate\")"
      ],
      "metadata": {
        "id": "TEzSwaMzh7Iw",
        "colab": {
          "base_uri": "https://localhost:8080/",
          "height": 437
        },
        "outputId": "b383c07a-623c-4ae9-f4e6-a91784054564"
      },
      "execution_count": null,
      "outputs": [
        {
          "output_type": "display_data",
          "data": {
            "text/plain": [
              "Plot with title “Heart Rate Histogram”"
            ],
            "image/png": "[encoded data removed]"
          },
          "metadata": {
            "image/png": {
              "width": 420,
              "height": 420
            }
          }
        }
      ]
    },
    {
      "cell_type": "markdown",
      "source": [
        "e. Building on the chart from the previous subproblem, add color to the graph by setting the col argument to ”red”."
      ],
      "metadata": {
        "id": "AGvDIn1iCwwy"
      }
    },
    {
      "cell_type": "code",
      "source": [
        "hist(heart.rate$hr,breaks, main=\"Heart Rate Histogram\", xlab=\"Heart Rate\", col=\"red\")"
      ],
      "metadata": {
        "id": "hlk25j-E9Gzx",
        "colab": {
          "base_uri": "https://localhost:8080/",
          "height": 437
        },
        "outputId": "a8546893-7985-4b96-e3ee-4865b907d830"
      },
      "execution_count": null,
      "outputs": [
        {
          "output_type": "display_data",
          "data": {
            "text/plain": [
              "Plot with title “Heart Rate Histogram”"
            ],
            "image/png": "[encoded data removed]"
          },
          "metadata": {
            "image/png": {
              "width": 420,
              "height": 420
            }
          }
        }
      ]
    },
    {
      "cell_type": "markdown",
      "source": [
        "f. Colors in histograms can also be set by specifying the color for each bar. Create a vector called ```DesiredColors```, and set it to the 7 colors of your choice, specified by textual name.\n",
        "You can search for the names of colors that R accepts, or access this link:\n",
        "\n",
        "http://www.stat.columbia.edu/~tzheng/files/Rcolor.pdf\n",
        "\n",
        "Building on the chart from the previous subproblem, change the col argument to the vector ```DesiredColors```."
      ],
      "metadata": {
        "id": "0ZQrIMXKDWge"
      }
    },
    {
      "cell_type": "code",
      "source": [
        "DesiredColors = c(\"violet\",\"dark violet\",\"blue\",\"green\",\"yellow\",\"orange\",\"red\")\n",
        "hist(heart.rate$hr,breaks, main=\"Heart Rate Histogram\", xlab=\"Heart Rate\", col=DesiredColors)"
      ],
      "metadata": {
        "id": "EsVpYKz28YzH",
        "colab": {
          "base_uri": "https://localhost:8080/",
          "height": 437
        },
        "outputId": "f55af790-9422-49f0-b181-c792bcc63ac9"
      },
      "execution_count": null,
      "outputs": [
        {
          "output_type": "display_data",
          "data": {
            "text/plain": [
              "Plot with title “Heart Rate Histogram”"
            ],
            "image/png": "[encoded data removed]"
          },
          "metadata": {
            "image/png": {
              "width": 420,
              "height": 420
            }
          }
        }
      ]
    },
    {
      "cell_type": "markdown",
      "source": [
        "g. It can be cumbersome to list each color by name. Alternatively, you can create a vector of integer values, and R will automatically pick colors for you. Replace the contents of ```DesiredColors``` you created in the previous subproblem by a vector containing values 1, 2, 3, 4, 5, and regenerate the plot."
      ],
      "metadata": {
        "id": "1WvKY-2X8ZDs"
      }
    },
    {
      "cell_type": "code",
      "source": [
        "DesiredColors = c(1,2,3,4,5)\n",
        "hist(heart.rate$hr,breaks, main=\"Heart Rate Histogram\", xlab=\"Heart Rate\", col=DesiredColors)"
      ],
      "metadata": {
        "id": "_Pp19OKy8kD0",
        "colab": {
          "base_uri": "https://localhost:8080/",
          "height": 437
        },
        "outputId": "03409d40-e6fd-40b8-a5f3-139919c6ee45"
      },
      "execution_count": null,
      "outputs": [
        {
          "output_type": "display_data",
          "data": {
            "text/plain": [
              "Plot with title “Heart Rate Histogram”"
            ],
            "image/png": "[encoded data removed]"
          },
          "metadata": {
            "image/png": {
              "width": 420,
              "height": 420
            }
          }
        }
      ]
    },
    {
      "cell_type": "markdown",
      "source": [
        "h. As we discussed in class, a histogram can either be a frequency or density histogram. The argument that sets this is call ```freq```, which by default is set to TRUE. Change this argument to FALSE, and regenerate the plot."
      ],
      "metadata": {
        "id": "zqRUa3Br8khF"
      }
    },
    {
      "cell_type": "code",
      "source": [
        "hist(heart.rate$hr,breaks, main=\"Heart Rate Histogram\", xlab=\"Heart Rate\", col=DesiredColors, freq = 0 )"
      ],
      "metadata": {
        "id": "fPpKtVGN8q4f",
        "colab": {
          "base_uri": "https://localhost:8080/",
          "height": 437
        },
        "outputId": "007e519f-afe3-4354-b205-11c843d5f68b"
      },
      "execution_count": null,
      "outputs": [
        {
          "output_type": "display_data",
          "data": {
            "text/plain": [
              "Plot with title “Heart Rate Histogram”"
            ],
            "image/png": "[encoded data removed]"
          },
          "metadata": {
            "image/png": {
              "width": 420,
              "height": 420
            }
          }
        }
      ]
    },
    {
      "cell_type": "markdown",
      "source": [
        "# Problem 3 (35 points)\n",
        "\n",
        "In this problem we will explore how to create a random array and also how to efficiently implement a geometric mean calculation.\n",
        "\n",
        "a. The function ```runif``` can be used to create an array of random numbers between any two numbers specified by the user. Explore the usage of ```runif```. Create an array called ```randomValues``` and assign it to 700 random numbers between 10 and 400. Please set the seed value as 1000. You should do this using a command similar to this one: \n",
        "```r\n",
        "set.seed(1000)\n",
        "randomValues <- runif(700,1,50)\n",
        "```"
      ],
      "metadata": {
        "id": "in-XxEw_8rIL"
      }
    },
    {
      "cell_type": "code",
      "source": [
        "set.seed(1000)\n",
        "randomValues = runif(700,10,400)\n",
        "print(randomValues)"
      ],
      "metadata": {
        "id": "4m6jYiJs9I6V",
        "colab": {
          "base_uri": "https://localhost:8080/"
        },
        "outputId": "8f48c2e6-3d69-4595-ffa5-dc66cb0040e2"
      },
      "execution_count": null,
      "outputs": [
        {
          "output_type": "stream",
          "name": "stdout",
          "text": [
            "  [1] 137.87270 305.95013  54.43519 279.39451 211.39694  36.41780 298.09879\n",
            "  [8] 237.57867  94.15085 109.88773 146.47561 304.63002 133.66286 347.66700\n",
            " [15] 308.02269  38.42510 202.12092 257.71319  43.09457 237.72920  73.54838\n",
            " [22] 323.93024 122.95267  37.99165 223.83912 273.85578 186.23947 331.40876\n",
            " [29]  45.39949  57.66278 231.33184  29.38687 229.03194 386.80977 208.87868\n",
            " [36] 283.36540  17.93627 315.59192 237.91468 133.74420 398.52122 217.10820\n",
            " [43]  52.86423 256.95251 321.19238 288.06601 284.10564 229.50477 110.96032\n",
            " [50] 207.70560 293.45172 276.00180  24.51755 212.06051 256.15460 277.27560\n",
            " [57] 287.91125 224.02717 356.68848 198.61988 172.34400  19.05023 305.56469\n",
            " [64] 383.50977 103.58374 362.48188 135.15556 370.85591  25.08569 315.89106\n",
            " [71] 234.27601 287.80347 149.27490 173.83611 343.40373  66.42230  99.37176\n",
            " [78]  86.30929  44.62087  73.31574 127.96374  78.81642 369.18458  34.61784\n",
            " [85] 233.69146  61.53781 198.20432 116.76174 171.66578 180.11784 372.06521\n",
            " [92] 331.69417 240.42159  14.34838 221.71262 255.51535  42.79347 303.91384\n",
            " [99]  74.92584 168.01223 243.75349 186.15591  63.36191 293.20973 265.27577\n",
            "[106] 340.03068  72.22517 283.34542 220.62234 127.30778 333.65213 290.05265\n",
            "[113]  24.31339 242.37085 252.72282  44.45836 397.92331 102.02553  85.91885\n",
            "[120]  18.51167 285.63431 127.25884 145.48765 260.00674 357.75011 397.82540\n",
            "[127] 354.82575 291.60530 130.91423  47.43343 159.85695 218.70432 120.43004\n",
            "[134]  28.59616 379.44654 131.01919  76.02773 337.02029 211.41416  68.62496\n",
            "[141]  36.14026 208.22462 300.81549 244.12884 248.81775 162.01457 367.84969\n",
            "[148] 257.72129 180.31264 340.92397 135.74707 228.91475 231.08346 251.90052\n",
            "[155] 368.24090  36.65072 309.06122 238.00047 256.17634 350.02938 352.75301\n",
            "[162] 111.79696 243.18878 346.15559 150.44513 374.66486 367.52984 365.92544\n",
            "[169] 267.34370 126.36662 185.90967 308.05521 194.70308 358.89665  13.94027\n",
            "[176] 220.81853  67.66533 385.99721 392.27758 367.77291 390.51071 179.34412\n",
            "[183]  20.67280 147.79451 274.42177  95.48226 180.10059 220.02146 188.81529\n",
            "[190] 314.36739 275.21961 166.63139 271.86553 225.21423 320.56528 344.19093\n",
            "[197] 146.25023  80.64341 391.51874 303.62538  43.31974 139.35003 230.25149\n",
            "[204] 204.56614 187.42099 144.34067 323.96483 225.52860 224.96364 286.44857\n",
            "[211] 234.83861 257.18416 264.12594 226.23905  15.05266 181.31186 340.61365\n",
            "[218]  62.75028 355.38361 329.25057 311.67323 157.35070 160.60571 150.06151\n",
            "[225] 169.91229 240.46643 184.76156 338.02921 386.43047 249.74342 131.15259\n",
            "[232]  92.58216 249.14952 246.74713  36.27286  96.76368 379.58034 156.03624\n",
            "[239] 241.44428 333.67824 288.99723 378.12334 155.71854  13.54546 273.87756\n",
            "[246] 358.40770 344.31059 294.61139 254.61406 316.18500 107.78942 322.33177\n",
            "[253]  88.87245 201.80359  45.53982 220.83588 239.44176 136.75059 107.36013\n",
            "[260] 301.09059 128.85125  89.52389 316.79777 177.06600 341.75677  17.48959\n",
            "[267] 233.00827 327.00627 203.86254 231.92735 128.45312  63.01674 348.71198\n",
            "[274] 144.98886  36.87962 223.40079  42.04015 102.09599 220.05044 267.50542\n",
            "[281] 244.59800 321.54298 278.50796 348.97282  91.12479 215.85705 327.92041\n",
            "[288] 138.55750  56.20618 272.06896 151.17898 148.78749 356.86070  83.83690\n",
            "[295] 382.72432  69.79143 210.18544 375.96982 306.99165  49.45617  76.46759\n",
            "[302] 181.92077 317.08127  31.10537 220.70032 308.52472 364.62428 322.41417\n",
            "[309] 200.51771 265.68547  23.37768 295.77148  72.01255 131.84925 252.49497\n",
            "[316]  44.31142 225.33478 119.82438  64.72207  13.32599 233.75973 350.95142\n",
            "[323] 330.69999  38.58639 391.05440 392.57668 159.32353 248.60216 139.96703\n",
            "[330] 382.24764 158.13481  84.79653 266.82557 357.36448 274.68893 104.28215\n",
            "[337] 113.68085 330.02379 205.48279 259.55624 260.07989 321.08887  96.44114\n",
            "[344] 252.12448 177.54041  23.86509  90.73091  15.17116  47.71877 268.50145\n",
            "[351]  54.96769 101.12828 388.92324 290.91541 356.85381 316.62804 240.74310\n",
            "[358] 346.55020 176.12826 270.69354 382.02508 123.43298 340.63933 278.14022\n",
            "[365] 373.75583 108.83295 348.13160 315.16727 279.91667 206.78812 212.53847\n",
            "[372] 299.39062 127.61452 192.16546 319.90463  59.67736 347.28399 279.73674\n",
            "[379] 145.65509 389.03776 149.94267 239.49384  57.82345 163.34861 102.98112\n",
            "[386]  85.52333 258.21333  54.56229 269.52307  78.42795 381.13489 385.76443\n",
            "[393] 290.63872 376.73602 227.24510 323.54547 257.38276 371.25830  78.56191\n",
            "[400] 239.78331 330.09949  91.65153 309.29835 271.68892  28.04099 303.90431\n",
            "[407] 169.03549 155.28637 109.36495 162.10314 193.14811  43.57468 229.16514\n",
            "[414]  73.39178 190.31430 311.24455 334.25602 340.30517 112.52088 119.86107\n",
            "[421] 177.50667 295.31137 317.63253  27.91038 183.45785  14.61036  17.63351\n",
            "[428] 292.12984 102.24658 332.54207  30.09963 128.41502 198.02588 242.98470\n",
            "[435] 129.66913 253.21974 143.52009 384.41650 135.08898  45.65481  35.03044\n",
            "[442] 389.04389  92.96632 319.59688  29.10894  17.02232 303.54188 298.51937\n",
            "[449] 366.38591 313.91702 206.93586  74.14459  35.57946 148.84640 281.19951\n",
            "[456]  27.44915 322.25471 256.48580 126.89120  27.13047  86.16406 278.10653\n",
            "[463]  89.40810 135.96165 391.17294 313.83949  20.26152 247.14231 115.28532\n",
            "[470] 267.94774 256.48689 344.98254 264.62977 131.81631  80.10961 118.65410\n",
            "[477] 393.08441 245.50691  78.59326 322.19613  92.48438  43.49178 308.59831\n",
            "[484] 311.03650 199.35450  26.17323 306.75593 391.30589 197.32065  35.52586\n",
            "[491] 222.17350 196.78016 277.66104  84.42763 275.33170  10.27026 222.23933\n",
            "[498]  39.87848  65.35918 101.56201 292.29188 383.49136 187.19720 285.33343\n",
            "[505] 290.46464 135.89280 329.73001  47.23628 150.16405 329.42486 293.48512\n",
            "[512] 314.35475 114.15333  49.12293 240.89423 381.88994  23.82343 313.93373\n",
            "[519] 343.25575 164.78803 110.84549 396.27233  45.31994 147.56047 150.57979\n",
            "[526] 261.59329 392.63043  28.78219 388.35383 216.06443 225.25015 296.80476\n",
            "[533] 229.91549 277.98565 310.44443 303.18358 382.05171 330.96768 249.65734\n",
            "[540] 389.08472  41.96180 387.15805 308.28517 283.61041 324.10603  13.14766\n",
            "[547] 135.64447  81.38006 171.45957 178.03315 103.89898  76.31799 168.92265\n",
            "[554]  77.82075 139.89210  49.64472 119.05496 115.65426 333.30096 314.48719\n",
            "[561] 273.19816 277.42468 343.59121 245.56404  89.20757  80.20092 175.19558\n",
            "[568] 239.40469 347.56069 181.91226 385.41592 139.37969 381.76107 173.24348\n",
            "[575]  53.23953  22.83888 391.84651 315.68055 161.16956  27.96792  66.83087\n",
            "[582]  15.83837 130.17503 352.56220 130.10719 396.04927  24.65975 166.93786\n",
            "[589]  37.50070 302.09153 176.05487  62.28228 158.17805 160.17237 215.15681\n",
            "[596] 397.91800 155.64506 261.81144 133.43189 321.08565 296.75650 103.03829\n",
            "[603]  66.86149 173.26841 212.11941  20.73571 186.09385 146.71677 340.75703\n",
            "[610]  93.68596 123.45612 240.35672  25.22443 377.64964  64.18094 332.40226\n",
            "[617]  85.00684 137.03541  75.68825 126.12269 206.54524 291.14681 361.85019\n",
            "[624] 270.71505  11.52634 344.49410 227.74239 387.15765 208.77053 122.79870\n",
            "[631] 161.92151 140.00287 116.40000  95.36807 187.67029 265.58226  55.37519\n",
            "[638] 222.47689 363.92472  21.62796 137.03681 299.79243 303.96715 119.20070\n",
            "[645] 368.01881 335.87345  38.66547 108.79984 294.82868 126.28529 327.86429\n",
            "[652] 360.43513 292.16224 200.45368 222.23322 321.71788 378.85168  50.27494\n",
            "[659] 135.41563 155.56957  23.55617 331.86395 393.39304 108.76406 274.23123\n",
            "[666] 199.64160 103.84028 112.62870 323.56155 122.80589 128.00121 320.77986\n",
            "[673] 290.50721 177.29963 194.07709 131.65476 339.59285 263.05440 323.57372\n",
            "[680] 113.50682 128.07757  43.92568 100.53041  29.79237 337.17088  54.09765\n",
            "[687] 178.42834 214.35535 327.62369  94.30404 295.63260 339.40982 264.96623\n",
            "[694] 349.80429 304.52089 123.17331  85.65851  48.37460 143.19051  21.54635\n"
          ]
        }
      ]
    },
    {
      "cell_type": "markdown",
      "source": [
        "b. R has a function called ```prod```, which can be used to multiple all of the numbers in an array together. Trying using ```prod(randomValues)```. What happens?"
      ],
      "metadata": {
        "id": "jxcOpDKR9JbC"
      }
    },
    {
      "cell_type": "code",
      "source": [
        "prod(randomValues)\n",
        "print(\"R cant produce the multiplication of all numbers in an array together it just shows Inf implies infinity \")"
      ],
      "metadata": {
        "id": "Cnn7LMWT9O5i",
        "colab": {
          "base_uri": "https://localhost:8080/",
          "height": 52
        },
        "outputId": "c043491d-f125-4a2a-ea70-df86c61bcbe3"
      },
      "execution_count": null,
      "outputs": [
        {
          "output_type": "display_data",
          "data": {
            "text/html": [
              "Inf"
            ],
            "text/markdown": "Inf",
            "text/latex": "Inf",
            "text/plain": [
              "[1] Inf"
            ]
          },
          "metadata": {}
        },
        {
          "output_type": "stream",
          "name": "stdout",
          "text": [
            "[1] \"R cant produce the multiplication of all numbers in an array together it just shows Inf implies infinity \"\n"
          ]
        }
      ]
    },
    {
      "cell_type": "markdown",
      "source": [
        "c. Suppose you want to calculate the geometric mean of the numbers in ```randomValues```. How can you implement it in R? What is the geometric mean? Don’t use any packages beyond what is available in the base packages in R.\n",
        "Hint: In the slides for Lecture 2, I have shown you another way to calculate geometric mean with the ```log()``` and ```exp()``` functions."
      ],
      "metadata": {
        "id": "1ow1R4fA9RWY"
      }
    },
    {
      "cell_type": "code",
      "source": [
        "print(\"The Geomentric mean is\")\n",
        "exp(mean(log(randomValues)))"
      ],
      "metadata": {
        "id": "f8TIYv0e-q-y",
        "colab": {
          "base_uri": "https://localhost:8080/",
          "height": 52
        },
        "outputId": "91407fb4-311c-4c7c-e513-1a983684de34"
      },
      "execution_count": null,
      "outputs": [
        {
          "output_type": "stream",
          "name": "stdout",
          "text": [
            "[1] \"The Geomentric mean is\"\n"
          ]
        },
        {
          "output_type": "display_data",
          "data": {
            "text/html": [
              "162.439287147876"
            ],
            "text/markdown": "162.439287147876",
            "text/latex": "162.439287147876",
            "text/plain": [
              "[1] 162.4393"
            ]
          },
          "metadata": {}
        }
      ]
    }
  ]
}