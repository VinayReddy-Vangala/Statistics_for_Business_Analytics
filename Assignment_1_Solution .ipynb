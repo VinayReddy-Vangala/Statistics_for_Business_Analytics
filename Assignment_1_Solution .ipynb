{
  "nbformat": 4,
  "nbformat_minor": 0,
  "metadata": {
    "colab": {
      "provenance": []
    },
    "kernelspec": {
      "name": "ir",
      "display_name": "R"
    }
  },
  "cells": [
    {
      "cell_type": "markdown",
      "metadata": {
        "id": "sppWpEqRFuQn"
      },
      "source": [
        "# Assignment 1 \n",
        "* Author: **Vinay Reddy Vangala**\n",
        "* NetID: **vrv22001**\n",
        "* Date: **01/19/2022**\n",
        "\n",
        "Here is a blank notebook for Assignment 1. Please fill in your name and NetID at the top. This assignment is designed to introduce you to how to use R with Google Colab. After finishing all your answers, please click \"Runtime-> Run all\" (or Ctrl+F9) to generate all the outputs and submit your ipynb file with all the outputs."
      ]
    },
    {
      "cell_type": "code",
      "metadata": {
        "id": "cymOBrQuFxA9"
      },
      "source": [
        "version # make sure it says language R at the bottom!"
      ],
      "execution_count": null,
      "outputs": []
    },
    {
      "cell_type": "markdown",
      "source": [
        "# General Instructions\n",
        "Note that R code submitted should work independent of the data that\n",
        "sits in the data structure. For example, suppose there was a vector\n",
        "$Rvec$ with the values $(1,1,4)$ and the problem asks for you to\n",
        "create R code to create a vector answer which doubles each element\n",
        "of $Rvec$. \n",
        "\n",
        "\n",
        "*   The answer $answer=c(2,2,8)$ would be given no credit.\n",
        "\n",
        "*  The answer $answer=2*Rvec$ would be an appropriate answer. \n",
        "\n",
        "\n",
        "\n",
        "\n",
        "For all problems, be sure to add comments that will enable the graders\n",
        "to understand your process, as needed. If you have any questions,\n",
        "please submit them via email to the instructor and/or the graders\n",
        "prior to submitting your solution. "
      ],
      "metadata": {
        "id": "z7bU5I3A1xOm"
      }
    },
    {
      "cell_type": "markdown",
      "source": [
        "# Problem 1 (100 Points)\n",
        "## Question 1.a\n",
        "a.\tPlease change the file name to “Assignment 1 Solution.ipynb.” \n",
        "\n",
        "\n",
        "*   i.\tChange the title to “Assignment 1 Solution”  \n",
        "*   ii.\tfill in your name, date, and NetID at the top. \n",
        "\n",
        "\n",
        "\n",
        "\n",
        "\n",
        "\n"
      ],
      "metadata": {
        "id": "TUai5ycCC534"
      }
    },
    {
      "cell_type": "markdown",
      "source": [
        "## Question 1.b \n",
        "\n",
        "i.\tDeclare a variable x and assign it the value of 718 divided by 17 and then print x. \n",
        "\n"
      ],
      "metadata": {
        "id": "dwSgAJ1X-JIG"
      }
    },
    {
      "cell_type": "code",
      "metadata": {
        "id": "BJpPmN3l70PN",
        "colab": {
          "base_uri": "https://localhost:8080/",
          "height": 34
        },
        "outputId": "cc3995d7-dcbf-4024-a533-ab4b485bd7af"
      },
      "source": [
        "#declaring variable x\n",
        "x = 718/17 #can also assign the variable x <- 718/17\n",
        "x #this prints the value assigned to x"
      ],
      "execution_count": null,
      "outputs": [
        {
          "output_type": "display_data",
          "data": {
            "text/html": [
              "42.2352941176471"
            ],
            "text/markdown": "42.2352941176471",
            "text/latex": "42.2352941176471",
            "text/plain": [
              "[1] 42.23529"
            ]
          },
          "metadata": {}
        }
      ]
    },
    {
      "cell_type": "markdown",
      "source": [
        "ii.\tDeclare another variable y and assign it the value of the variable created in the previous part rounded to one digit in the decimal and then print y.\n"
      ],
      "metadata": {
        "id": "eNyryLdOF4gq"
      }
    },
    {
      "cell_type": "code",
      "source": [
        "#declaring variable y\n",
        "y <- round(x,1) # rounds the values in its first argument\n",
        "y"
      ],
      "metadata": {
        "id": "0aemBez3GLEQ",
        "colab": {
          "base_uri": "https://localhost:8080/",
          "height": 34
        },
        "outputId": "032894bb-514d-4d43-e1d2-9e0eeb40fce1"
      },
      "execution_count": null,
      "outputs": [
        {
          "output_type": "display_data",
          "data": {
            "text/html": [
              "42.2"
            ],
            "text/markdown": "42.2",
            "text/latex": "42.2",
            "text/plain": [
              "[1] 42.2"
            ]
          },
          "metadata": {}
        }
      ]
    },
    {
      "cell_type": "markdown",
      "source": [
        "iii.\tThere is a function called “floor” that returns the value of a variable rounded up. Use the help function to learn about the function. Declare a new variable z and assign it to the value of the variable x created in the first part of this problem rounded up to the nearest integer using this function and then print z. Is this z bigger than x or smaller than x?"
      ],
      "metadata": {
        "id": "oddoGgXhHjvZ"
      }
    },
    {
      "cell_type": "code",
      "source": [
        "z <- floor(x) #assigning floor value of x to z,this function mainly rounds to the greatest integer that is less than or equal to x\n",
        "z \n",
        "#upon investigating the output the value of z seems to smaller than x"
      ],
      "metadata": {
        "id": "hx96GE_DHqm6",
        "colab": {
          "base_uri": "https://localhost:8080/",
          "height": 34
        },
        "outputId": "7c54d992-0eea-4f48-e31d-77d7120c6202"
      },
      "execution_count": null,
      "outputs": [
        {
          "output_type": "display_data",
          "data": {
            "text/html": [
              "42"
            ],
            "text/markdown": "42",
            "text/latex": "42",
            "text/plain": [
              "[1] 42"
            ]
          },
          "metadata": {}
        }
      ]
    },
    {
      "cell_type": "markdown",
      "source": [
        "## Question 1.c\n",
        "Vectors are objects in R that allow you to store multiple other objects in a variable. We will explore vectors in this problem."
      ],
      "metadata": {
        "id": "nepVAFF0aGsJ"
      }
    },
    {
      "cell_type": "markdown",
      "source": [
        "i.\tCreate a new section and execute the line:\n",
        "companyName = c(“Amazon”, “Meta”, “Twitter”, “Microsoft”, “Google”)\n"
      ],
      "metadata": {
        "id": "LfzXT2os_tWz"
      }
    },
    {
      "cell_type": "code",
      "source": [
        "companyName = c(\"Amazon\", \"Meta\", \"Twitter\", \"Microsoft\", \"Google\") #assigning a vector to companyName, consisting datatype of character\n",
        "companyName"
      ],
      "metadata": {
        "id": "hl6QNfaIaA_s",
        "colab": {
          "base_uri": "https://localhost:8080/",
          "height": 34
        },
        "outputId": "8cca5091-ccd2-4d71-9d3a-ebda2fc517c1"
      },
      "execution_count": null,
      "outputs": [
        {
          "output_type": "display_data",
          "data": {
            "text/html": [
              "<style>\n",
              ".list-inline {list-style: none; margin:0; padding: 0}\n",
              ".list-inline>li {display: inline-block}\n",
              ".list-inline>li:not(:last-child)::after {content: \"\\00b7\"; padding: 0 .5ex}\n",
              "</style>\n",
              "<ol class=list-inline><li>'Amazon'</li><li>'Meta'</li><li>'Twitter'</li><li>'Microsoft'</li><li>'Google'</li></ol>\n"
            ],
            "text/markdown": "1. 'Amazon'\n2. 'Meta'\n3. 'Twitter'\n4. 'Microsoft'\n5. 'Google'\n\n\n",
            "text/latex": "\\begin{enumerate*}\n\\item 'Amazon'\n\\item 'Meta'\n\\item 'Twitter'\n\\item 'Microsoft'\n\\item 'Google'\n\\end{enumerate*}\n",
            "text/plain": [
              "[1] \"Amazon\"    \"Meta\"      \"Twitter\"   \"Microsoft\" \"Google\"   "
            ]
          },
          "metadata": {}
        }
      ]
    },
    {
      "cell_type": "markdown",
      "source": [
        "ii.\tExecute the line in a code area:\n",
        "companyName[3]\n"
      ],
      "metadata": {
        "id": "LlVkfNoR_1e9"
      }
    },
    {
      "cell_type": "code",
      "source": [
        "# companyName[3] unlike other programming languages, R references the  first element (the first number in the set)  by '[1]', whereas with most sorts of arrays the first element is referenced with '[0]'."
      ],
      "metadata": {
        "id": "ZfC_imV0cR2Z",
        "colab": {
          "base_uri": "https://localhost:8080/",
          "height": 34
        },
        "outputId": "25ea2b32-61c6-41f2-f625-a734ffa00b6e"
      },
      "execution_count": null,
      "outputs": [
        {
          "output_type": "display_data",
          "data": {
            "text/html": [
              "'Twitter'"
            ],
            "text/markdown": "'Twitter'",
            "text/latex": "'Twitter'",
            "text/plain": [
              "[1] \"Twitter\""
            ]
          },
          "metadata": {}
        }
      ]
    },
    {
      "cell_type": "markdown",
      "source": [
        "iii.\tLook up each company’s total revenue in 2021 and 2020 (in billion dollars). Create two vectors, this time composed of numbers, which store the company’s revenue in 2020 and 2021. Call these vectors revenue2021 and revenue2020 respectively. "
      ],
      "metadata": {
        "id": "4hmXgLXSAUZw"
      }
    },
    {
      "cell_type": "code",
      "source": [
        "revenue2021 = c(469.822, 117.929, 5, 168, 257.63)\n",
        "revenue2020 = c(386.064, 85.965, 3.72, 143, 182.53) \n",
        "revenue2021\n",
        "revenue2020"
      ],
      "metadata": {
        "id": "aBH9z0otgmRZ",
        "colab": {
          "base_uri": "https://localhost:8080/",
          "height": 52
        },
        "outputId": "91c90359-c6e9-4d1b-ce9f-d09ce9f76750"
      },
      "execution_count": 2,
      "outputs": [
        {
          "output_type": "display_data",
          "data": {
            "text/html": [
              "<style>\n",
              ".list-inline {list-style: none; margin:0; padding: 0}\n",
              ".list-inline>li {display: inline-block}\n",
              ".list-inline>li:not(:last-child)::after {content: \"\\00b7\"; padding: 0 .5ex}\n",
              "</style>\n",
              "<ol class=list-inline><li>469.822</li><li>117.929</li><li>5</li><li>168</li><li>257.63</li></ol>\n"
            ],
            "text/markdown": "1. 469.822\n2. 117.929\n3. 5\n4. 168\n5. 257.63\n\n\n",
            "text/latex": "\\begin{enumerate*}\n\\item 469.822\n\\item 117.929\n\\item 5\n\\item 168\n\\item 257.63\n\\end{enumerate*}\n",
            "text/plain": [
              "[1] 469.822 117.929   5.000 168.000 257.630"
            ]
          },
          "metadata": {}
        },
        {
          "output_type": "display_data",
          "data": {
            "text/html": [
              "<style>\n",
              ".list-inline {list-style: none; margin:0; padding: 0}\n",
              ".list-inline>li {display: inline-block}\n",
              ".list-inline>li:not(:last-child)::after {content: \"\\00b7\"; padding: 0 .5ex}\n",
              "</style>\n",
              "<ol class=list-inline><li>386.064</li><li>85.965</li><li>3.72</li><li>143</li><li>182.53</li></ol>\n"
            ],
            "text/markdown": "1. 386.064\n2. 85.965\n3. 3.72\n4. 143\n5. 182.53\n\n\n",
            "text/latex": "\\begin{enumerate*}\n\\item 386.064\n\\item 85.965\n\\item 3.72\n\\item 143\n\\item 182.53\n\\end{enumerate*}\n",
            "text/plain": [
              "[1] 386.064  85.965   3.720 143.000 182.530"
            ]
          },
          "metadata": {}
        }
      ]
    },
    {
      "cell_type": "markdown",
      "source": [
        "iv.\tCreate a vector called perChange and set it equal to the percentage change of each company from 2020 to 2021. Note use the following equation:\n",
        " $perChange =\\frac{revenue2021}{revenue2020} – 1$"
      ],
      "metadata": {
        "id": "zTVNNNJNAXse"
      }
    },
    {
      "cell_type": "code",
      "source": [
        "perChange = (revenue2021/revenue2020)-1\n",
        "perChange = perChange*100\n",
        "perChange"
      ],
      "metadata": {
        "id": "TEzSwaMzh7Iw",
        "colab": {
          "base_uri": "https://localhost:8080/",
          "height": 34
        },
        "outputId": "a12ae1f2-d256-463e-e3f2-8892d9ae2807"
      },
      "execution_count": 3,
      "outputs": [
        {
          "output_type": "display_data",
          "data": {
            "text/html": [
              "<style>\n",
              ".list-inline {list-style: none; margin:0; padding: 0}\n",
              ".list-inline>li {display: inline-block}\n",
              ".list-inline>li:not(:last-child)::after {content: \"\\00b7\"; padding: 0 .5ex}\n",
              "</style>\n",
              "<ol class=list-inline><li>21.6953665713457</li><li>37.1825743034956</li><li>34.4086021505376</li><li>17.4825174825175</li><li>41.1439215471429</li></ol>\n"
            ],
            "text/markdown": "1. 21.6953665713457\n2. 37.1825743034956\n3. 34.4086021505376\n4. 17.4825174825175\n5. 41.1439215471429\n\n\n",
            "text/latex": "\\begin{enumerate*}\n\\item 21.6953665713457\n\\item 37.1825743034956\n\\item 34.4086021505376\n\\item 17.4825174825175\n\\item 41.1439215471429\n\\end{enumerate*}\n",
            "text/plain": [
              "[1] 21.69537 37.18257 34.40860 17.48252 41.14392"
            ]
          },
          "metadata": {}
        }
      ]
    },
    {
      "cell_type": "code",
      "source": [],
      "metadata": {
        "id": "-iX3Ol3JJzmM"
      },
      "execution_count": null,
      "outputs": []
    }
  ]
}