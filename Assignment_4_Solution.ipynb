{
  "nbformat": 4,
  "nbformat_minor": 0,
  "metadata": {
    "colab": {
      "provenance": []
    },
    "kernelspec": {
      "name": "ir",
      "display_name": "R"
    }
  },
  "cells": [
    {
      "cell_type": "markdown",
      "metadata": {
        "id": "sppWpEqRFuQn"
      },
      "source": [
        "# Assignment 4 \n",
        "* Author: **Vinay Reddy**\n",
        "* NetID: **vrv22001**\n",
        "* Date: **02/07/2022**\n",
        "\n",
        "Here is a blank notebook for Assignment 4. Please fill in your name and NetID at the top. This assignment is designed to introduce you to how to use R with Google Colab. After finishing all your answers, please click \"Runtime-> Run all\" (or Ctrl+F9) to generate all the outputs and submit your ipynb file with all the outputs."
      ]
    },
    {
      "cell_type": "code",
      "metadata": {
        "id": "cymOBrQuFxA9",
        "colab": {
          "base_uri": "https://localhost:8080/",
          "height": 277
        },
        "outputId": "b2713a48-753d-4694-b28f-08c689440636"
      },
      "source": [
        "version # make sure it says language R at the bottom!"
      ],
      "execution_count": 2,
      "outputs": [
        {
          "output_type": "display_data",
          "data": {
            "text/plain": [
              "               _                                          \n",
              "platform       x86_64-pc-linux-gnu                        \n",
              "arch           x86_64                                     \n",
              "os             linux-gnu                                  \n",
              "system         x86_64, linux-gnu                          \n",
              "status         Patched                                    \n",
              "major          4                                          \n",
              "minor          2.2                                        \n",
              "year           2022                                       \n",
              "month          11                                         \n",
              "day            10                                         \n",
              "svn rev        83330                                      \n",
              "language       R                                          \n",
              "version.string R version 4.2.2 Patched (2022-11-10 r83330)\n",
              "nickname       Innocent and Trusting                      "
            ]
          },
          "metadata": {}
        }
      ]
    },
    {
      "cell_type": "code",
      "source": [],
      "metadata": {
        "id": "WNjzLtX-wTqm"
      },
      "execution_count": null,
      "outputs": []
    },
    {
      "cell_type": "markdown",
      "source": [
        "# General Instructions\n",
        "\n",
        "Please change the file name to “Assignment 4 Solution.ipynb.” The solution to each problem should be a separate section. \n",
        "\n",
        "Note that R code submitted should work independent of the data that\n",
        "sits in the data structure. For example, suppose there was a vector\n",
        "$Rvec$ with the values $(1,1,4)$ and the problem asks for you to\n",
        "create R code to create a vector answer which doubles each element\n",
        "of $Rvec$. \n",
        "\n",
        "\n",
        "*   The answer $answer=c(2,2,8)$ would be given no credit.\n",
        "\n",
        "*  The answer $answer=2*Rvec$ would be an appropriate answer. \n",
        "\n",
        "For all problems, be sure to add comments that will enable the graders\n",
        "to understand your process, as needed. If you have any questions,\n",
        "please submit them via email to the instructor and/or the graders\n",
        "prior to submitting your solution. "
      ],
      "metadata": {
        "id": "z7bU5I3A1xOm"
      }
    },
    {
      "cell_type": "markdown",
      "source": [
        "# Problem 1 (20 points)—Discrete Distribution\n",
        "\n",
        "Compute the mean and variance of the following probability distribution using R. \n",
        "\n",
        "X | P(X)\n",
        "---|---\n",
        "5|0.100\n",
        "10|0.300\n",
        "15|0.200\n",
        "20|0.400"
      ],
      "metadata": {
        "id": "xbNm2PAsp0tI"
      }
    },
    {
      "cell_type": "markdown",
      "source": [
        "a. What is the expected value of $X$?"
      ],
      "metadata": {
        "id": "ezvbhW9UqBNY"
      }
    },
    {
      "cell_type": "code",
      "source": [
        "num_inter <- c(5,10,15,20)\n",
        "prob_inter <- c(0.100,0.300,0.200,0.400)\n",
        "ev_inter <- sum(num_inter*prob_inter)\n",
        "ev_inter\n",
        "#mean"
      ],
      "metadata": {
        "colab": {
          "base_uri": "https://localhost:8080/",
          "height": 34
        },
        "id": "dNE8O3GxgeKw",
        "outputId": "ac761d6c-4ad7-46f1-dfbb-535e738cd656"
      },
      "execution_count": 6,
      "outputs": [
        {
          "output_type": "display_data",
          "data": {
            "text/html": [
              "14.5"
            ],
            "text/markdown": "14.5",
            "text/latex": "14.5",
            "text/plain": [
              "[1] 14.5"
            ]
          },
          "metadata": {}
        }
      ]
    },
    {
      "cell_type": "markdown",
      "source": [
        "b. What is the standard deviation of $X$?"
      ],
      "metadata": {
        "id": "1tEJo58qqC5a"
      }
    },
    {
      "cell_type": "code",
      "source": [
        "var_inter_intermediate1 = (num_inter-ev_inter)^2\n",
        "var_inter_intermediate1\n",
        "var_inter_intermediate2 = var_inter_intermediate1*prob_inter\n",
        " var_inter_intermediate2\n",
        " var_inter = sum(var_inter_intermediate2)\n",
        " var_inter\n",
        " #variance\n",
        " sd_inter=sqrt(var_inter)\n",
        "sd_inter\n",
        "#standard_deviation"
      ],
      "metadata": {
        "colab": {
          "base_uri": "https://localhost:8080/",
          "height": 86
        },
        "id": "2ovWUk1B1Xw7",
        "outputId": "dd9d4ed7-ef47-4172-ee45-b91910227a22"
      },
      "execution_count": 7,
      "outputs": [
        {
          "output_type": "display_data",
          "data": {
            "text/html": [
              "<style>\n",
              ".list-inline {list-style: none; margin:0; padding: 0}\n",
              ".list-inline>li {display: inline-block}\n",
              ".list-inline>li:not(:last-child)::after {content: \"\\00b7\"; padding: 0 .5ex}\n",
              "</style>\n",
              "<ol class=list-inline><li>90.25</li><li>20.25</li><li>0.25</li><li>30.25</li></ol>\n"
            ],
            "text/markdown": "1. 90.25\n2. 20.25\n3. 0.25\n4. 30.25\n\n\n",
            "text/latex": "\\begin{enumerate*}\n\\item 90.25\n\\item 20.25\n\\item 0.25\n\\item 30.25\n\\end{enumerate*}\n",
            "text/plain": [
              "[1] 90.25 20.25  0.25 30.25"
            ]
          },
          "metadata": {}
        },
        {
          "output_type": "display_data",
          "data": {
            "text/html": [
              "<style>\n",
              ".list-inline {list-style: none; margin:0; padding: 0}\n",
              ".list-inline>li {display: inline-block}\n",
              ".list-inline>li:not(:last-child)::after {content: \"\\00b7\"; padding: 0 .5ex}\n",
              "</style>\n",
              "<ol class=list-inline><li>9.025</li><li>6.075</li><li>0.05</li><li>12.1</li></ol>\n"
            ],
            "text/markdown": "1. 9.025\n2. 6.075\n3. 0.05\n4. 12.1\n\n\n",
            "text/latex": "\\begin{enumerate*}\n\\item 9.025\n\\item 6.075\n\\item 0.05\n\\item 12.1\n\\end{enumerate*}\n",
            "text/plain": [
              "[1]  9.025  6.075  0.050 12.100"
            ]
          },
          "metadata": {}
        },
        {
          "output_type": "display_data",
          "data": {
            "text/html": [
              "27.25"
            ],
            "text/markdown": "27.25",
            "text/latex": "27.25",
            "text/plain": [
              "[1] 27.25"
            ]
          },
          "metadata": {}
        },
        {
          "output_type": "display_data",
          "data": {
            "text/html": [
              "5.22015325445528"
            ],
            "text/markdown": "5.22015325445528",
            "text/latex": "5.22015325445528",
            "text/plain": [
              "[1] 5.220153"
            ]
          },
          "metadata": {}
        }
      ]
    },
    {
      "cell_type": "markdown",
      "source": [
        "# Problem 2 (50 points)—Binomial Distribution\n",
        "\n",
        "The owner of a car dealership is looking to model the number of purchases of vehicles. Let $X$ be the number of purchases of vehicles in a single day, assuming that 100 customers arrive on that day. Historical data suggests that a customer will purchase a vehicle with probability 0.35. Answer the following questions with R. In Problem 2, you are not required to proof the answer for each question. Instead, you should use R code to generate a variable that answers each of the following subquestions and then print it. Please show all work and add some necessary explanation for each step. "
      ],
      "metadata": {
        "id": "1P3OWhmOOsZ4"
      }
    },
    {
      "cell_type": "markdown",
      "source": [
        "a. What is the expected value of $X$?"
      ],
      "metadata": {
        "id": "Ap_t07ODPD26"
      }
    },
    {
      "cell_type": "code",
      "source": [
        "e_X <- 100*0.35\n",
        " e_X\n",
        " # Alternatively, using dbinom\n",
        "\n",
        "# Step 1: What are the values that X can take\n",
        " value_can_take <- 0:100\n",
        " # Step 2: Calculate the prob. that X is equal to the value\n",
        "prob_vec <- dbinom(x= value_can_take, size = 100, p =0.35)\n",
        "# Step 3: prob. * value\n",
        " intermediate <- value_can_take*prob_vec\n",
        " # Step 4: doing the summation\n",
        " final_result <- sum(intermediate)\n",
        " final_result\n",
        " "
      ],
      "metadata": {
        "id": "RSW1YN3RPGkx",
        "colab": {
          "base_uri": "https://localhost:8080/",
          "height": 52
        },
        "outputId": "d902e266-59fc-451c-dd50-188365fde49b"
      },
      "execution_count": 9,
      "outputs": [
        {
          "output_type": "display_data",
          "data": {
            "text/html": [
              "35"
            ],
            "text/markdown": "35",
            "text/latex": "35",
            "text/plain": [
              "[1] 35"
            ]
          },
          "metadata": {}
        },
        {
          "output_type": "display_data",
          "data": {
            "text/html": [
              "35"
            ],
            "text/markdown": "35",
            "text/latex": "35",
            "text/plain": [
              "[1] 35"
            ]
          },
          "metadata": {}
        }
      ]
    },
    {
      "cell_type": "markdown",
      "source": [
        "b. What is the variance of $X$?"
      ],
      "metadata": {
        "id": "vyQRrnwePG83"
      }
    },
    {
      "cell_type": "code",
      "source": [
        "# Calculate variance(X)\n",
        "var_X <- (100*0.35*(1-0.35))\n",
        "var_X"
      ],
      "metadata": {
        "id": "Vw1YH1D6PJqt",
        "colab": {
          "base_uri": "https://localhost:8080/",
          "height": 34
        },
        "outputId": "49bfe2ba-1d9f-4d76-e7a4-939ecf619233"
      },
      "execution_count": 8,
      "outputs": [
        {
          "output_type": "display_data",
          "data": {
            "text/html": [
              "22.75"
            ],
            "text/markdown": "22.75",
            "text/latex": "22.75",
            "text/plain": [
              "[1] 22.75"
            ]
          },
          "metadata": {}
        }
      ]
    },
    {
      "cell_type": "markdown",
      "source": [
        "c. What is the probability that 31 cars are purchased on a single day?"
      ],
      "metadata": {
        "id": "84d0BnfYPKO2"
      }
    },
    {
      "cell_type": "code",
      "source": [
        "dbinom(x = 31,size = 100, prob = 0.35)"
      ],
      "metadata": {
        "id": "rs86o1b_PMyu",
        "colab": {
          "base_uri": "https://localhost:8080/",
          "height": 34
        },
        "outputId": "3ed7534f-24fd-40e8-c5dd-ac5d092238a6"
      },
      "execution_count": 15,
      "outputs": [
        {
          "output_type": "display_data",
          "data": {
            "text/html": [
              "0.0600905077216957"
            ],
            "text/markdown": "0.0600905077216957",
            "text/latex": "0.0600905077216957",
            "text/plain": [
              "[1] 0.06009051"
            ]
          },
          "metadata": {}
        }
      ]
    },
    {
      "cell_type": "markdown",
      "source": [
        "d. What is the probability that 27 or fewer cars are purchased on a single day?\n"
      ],
      "metadata": {
        "id": "iF13xc6uPNB7"
      }
    },
    {
      "cell_type": "code",
      "source": [
        "pbinom(q = 27,size = 100, prob = 0.35)"
      ],
      "metadata": {
        "id": "Wyv8WcHMPPa7",
        "colab": {
          "base_uri": "https://localhost:8080/",
          "height": 34
        },
        "outputId": "6f4b21a4-5a62-4441-b7ae-2d8da96cdf4d"
      },
      "execution_count": 16,
      "outputs": [
        {
          "output_type": "display_data",
          "data": {
            "text/html": [
              "0.0558076746758317"
            ],
            "text/markdown": "0.0558076746758317",
            "text/latex": "0.0558076746758317",
            "text/plain": [
              "[1] 0.05580767"
            ]
          },
          "metadata": {}
        }
      ]
    },
    {
      "cell_type": "markdown",
      "source": [
        "e. What is the probability that at least 24 cars are purchased on a single day?"
      ],
      "metadata": {
        "id": "TpjlNB1zPPoz"
      }
    },
    {
      "cell_type": "code",
      "source": [
        "pbinom(q=23,size=100,prob=0.35)"
      ],
      "metadata": {
        "id": "T8_TUo5TPRnG",
        "colab": {
          "base_uri": "https://localhost:8080/",
          "height": 34
        },
        "outputId": "34a6d6b9-705c-414f-a1ed-195fc471da06"
      },
      "execution_count": 19,
      "outputs": [
        {
          "output_type": "display_data",
          "data": {
            "text/html": [
              "0.00661989563711957"
            ],
            "text/markdown": "0.00661989563711957",
            "text/latex": "0.00661989563711957",
            "text/plain": [
              "[1] 0.006619896"
            ]
          },
          "metadata": {}
        }
      ]
    },
    {
      "cell_type": "markdown",
      "source": [
        "f. What is the probability that less than 20 cars are purchased on a single day?"
      ],
      "metadata": {
        "id": "8yszYqhyPSDh"
      }
    },
    {
      "cell_type": "code",
      "source": [
        "pbinom(q=19,size=100,prob=0.35)"
      ],
      "metadata": {
        "id": "uY4m7gJLPUG5",
        "colab": {
          "base_uri": "https://localhost:8080/",
          "height": 34
        },
        "outputId": "f2283c74-143a-40f2-b7c9-3acdda9d7bb4"
      },
      "execution_count": 20,
      "outputs": [
        {
          "output_type": "display_data",
          "data": {
            "text/html": [
              "0.000343485586854579"
            ],
            "text/markdown": "0.000343485586854579",
            "text/latex": "0.000343485586854579",
            "text/plain": [
              "[1] 0.0003434856"
            ]
          },
          "metadata": {}
        }
      ]
    },
    {
      "cell_type": "markdown",
      "source": [
        "g. What is the probability that more than 21 cars are purchased on a single day?"
      ],
      "metadata": {
        "id": "Dj469GwHPUTx"
      }
    },
    {
      "cell_type": "code",
      "source": [
        "pbinom(q=79,size=100,prob=0.35)"
      ],
      "metadata": {
        "id": "w5DN-lSXPWIr",
        "colab": {
          "base_uri": "https://localhost:8080/",
          "height": 34
        },
        "outputId": "34b840ad-df47-4347-ae6f-8f6aad62633b"
      },
      "execution_count": 21,
      "outputs": [
        {
          "output_type": "display_data",
          "data": {
            "text/html": [
              "1"
            ],
            "text/markdown": "1",
            "text/latex": "1",
            "text/plain": [
              "[1] 1"
            ]
          },
          "metadata": {}
        }
      ]
    },
    {
      "cell_type": "markdown",
      "source": [
        "h. What is the probability that the number of cars purchased on a single day is between 14 and 21 (including of 14 and 21), i.e., $P(14 \\leq 𝑋 \\leq 21)$?"
      ],
      "metadata": {
        "id": "pzhC79wOPV6o"
      }
    },
    {
      "cell_type": "code",
      "source": [
        "pbinom(q = 21,size = 100, prob = 0.35)- pbinom(q = 14,size = 100, prob = 0.35)"
      ],
      "metadata": {
        "id": "ggOx7svjPbGQ",
        "colab": {
          "base_uri": "https://localhost:8080/",
          "height": 34
        },
        "outputId": "abe75262-b9de-41fe-eb42-422dfeba6471"
      },
      "execution_count": 22,
      "outputs": [
        {
          "output_type": "display_data",
          "data": {
            "text/html": [
              "0.00168435079893611"
            ],
            "text/markdown": "0.00168435079893611",
            "text/latex": "0.00168435079893611",
            "text/plain": [
              "[1] 0.001684351"
            ]
          },
          "metadata": {}
        }
      ]
    },
    {
      "cell_type": "markdown",
      "source": [
        "i. What is the probability that the number of cars purchased on a single day is not strictly between 13 and 19 (excluding 13 and 19), i.e., $P(13 < X < 19)?"
      ],
      "metadata": {
        "id": "0clpiXwtPbUC"
      }
    },
    {
      "cell_type": "code",
      "source": [
        "1-(pbinom(q=18,size=100,prob=0.35)-pbinom(q=12,size=100,prob=0.35))"
      ],
      "metadata": {
        "id": "rVJSu15yPrUK",
        "colab": {
          "base_uri": "https://localhost:8080/",
          "height": 34
        },
        "outputId": "a09914b8-0972-4385-a228-f38ac9e98429"
      },
      "execution_count": 25,
      "outputs": [
        {
          "output_type": "display_data",
          "data": {
            "text/html": [
              "0.999858498858329"
            ],
            "text/markdown": "0.999858498858329",
            "text/latex": "0.999858498858329",
            "text/plain": [
              "[1] 0.9998585"
            ]
          },
          "metadata": {}
        }
      ]
    },
    {
      "cell_type": "markdown",
      "source": [
        "# Problem 3 (30 points)—Poisson Distribution\n",
        "\n",
        "Suppose bus arrive to (or stop by) a bus station at a rate of 2 every 30 minutes.\n"
      ],
      "metadata": {
        "id": "6hY2LGJ3QJnc"
      }
    },
    {
      "cell_type": "markdown",
      "source": [
        "a. What is the expected number of buses to arrive to (or stop by) the station in 60 minutes?"
      ],
      "metadata": {
        "id": "SdsNrdAwQNeM"
      }
    },
    {
      "cell_type": "code",
      "source": [
        "\n",
        " lambda = 2*2 \n",
        " lambda"
      ],
      "metadata": {
        "id": "cMY65lyeQQeb",
        "colab": {
          "base_uri": "https://localhost:8080/",
          "height": 34
        },
        "outputId": "20d194e7-fa3c-4f91-b5b5-57a38f606a0e"
      },
      "execution_count": 27,
      "outputs": [
        {
          "output_type": "display_data",
          "data": {
            "text/html": [
              "4"
            ],
            "text/markdown": "4",
            "text/latex": "4",
            "text/plain": [
              "[1] 4"
            ]
          },
          "metadata": {}
        }
      ]
    },
    {
      "cell_type": "markdown",
      "source": [
        "b. What is the probability that more than 6 buses arrive in (or stop by) the next 60 minutes?"
      ],
      "metadata": {
        "id": "W73YOr7dQRLZ"
      }
    },
    {
      "cell_type": "code",
      "source": [
        "#P(X>=6)\n",
        "ppois(q=6,lambda=4)"
      ],
      "metadata": {
        "id": "wevywpAVQT0h",
        "colab": {
          "base_uri": "https://localhost:8080/",
          "height": 34
        },
        "outputId": "f57629b5-a255-45d0-8b61-580e9e2afaeb"
      },
      "execution_count": 28,
      "outputs": [
        {
          "output_type": "display_data",
          "data": {
            "text/html": [
              "0.889326021597426"
            ],
            "text/markdown": "0.889326021597426",
            "text/latex": "0.889326021597426",
            "text/plain": [
              "[1] 0.889326"
            ]
          },
          "metadata": {}
        }
      ]
    }
  ]
}